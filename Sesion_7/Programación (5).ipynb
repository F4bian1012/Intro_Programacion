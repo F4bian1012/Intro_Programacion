{
  "nbformat": 4,
  "nbformat_minor": 0,
  "metadata": {
    "colab": {
      "provenance": [],
      "collapsed_sections": [
        "azOBC9Q1jRdt",
        "9OfCF-WR1CPO",
        "e38A-HfMm2QG",
        "1ngezaFl7sx9"
      ]
    },
    "kernelspec": {
      "name": "python3",
      "display_name": "Python 3"
    },
    "language_info": {
      "name": "python"
    }
  },
  "cells": [
    {
      "cell_type": "markdown",
      "source": [
        "#Programación\n"
      ],
      "metadata": {
        "id": "azOBC9Q1jRdt"
      }
    },
    {
      "cell_type": "markdown",
      "source": [
        "Programar es el proceso de escribir código para crear software o aplicaciones que se ejecutan en una computadora o dispospositivo electrónico con unidad de procesamiento. Es el acto de traducir una solución o algoritmo en un lenguaje comprensible para una máquina.\n",
        "\n"
      ],
      "metadata": {
        "id": "vmw-J15xzidN"
      }
    },
    {
      "cell_type": "code",
      "execution_count": null,
      "metadata": {
        "colab": {
          "base_uri": "https://localhost:8080/"
        },
        "id": "hABfZayhjQ80",
        "outputId": "079ba1b1-9239-438e-d5c1-8474ecb1a524"
      },
      "outputs": [
        {
          "output_type": "stream",
          "name": "stdout",
          "text": [
            "Hola Mundo\n"
          ]
        }
      ],
      "source": [
        "print(\"Hola Mundo\")"
      ]
    },
    {
      "cell_type": "code",
      "source": [
        "nombre = input(\"Introduce tu nombre: \")\n",
        "print(nombre)"
      ],
      "metadata": {
        "colab": {
          "base_uri": "https://localhost:8080/"
        },
        "id": "6BOomGJyTDp_",
        "outputId": "3298389d-d645-45b7-d1cc-89c20aa25d61"
      },
      "execution_count": null,
      "outputs": [
        {
          "output_type": "stream",
          "name": "stdout",
          "text": [
            "Introduce tu nombre: jf\n",
            "jf\n"
          ]
        }
      ]
    },
    {
      "cell_type": "markdown",
      "source": [
        "##*DATOS*"
      ],
      "metadata": {
        "id": "6_cHWSlvNyrg"
      }
    },
    {
      "cell_type": "markdown",
      "source": [
        "###Datos Booleanos"
      ],
      "metadata": {
        "id": "JAVzgMWcN5XA"
      }
    },
    {
      "cell_type": "code",
      "source": [
        "Dato_Verdadero = True\n",
        "Dato_Falso = False\n",
        "\n",
        "print(Dato_Verdadero)\n",
        "print(Dato_Falso)\n"
      ],
      "metadata": {
        "colab": {
          "base_uri": "https://localhost:8080/"
        },
        "id": "JdiE7poEOchR",
        "outputId": "cdd3ec00-7434-44e6-8085-688f1077198d"
      },
      "execution_count": null,
      "outputs": [
        {
          "output_type": "stream",
          "name": "stdout",
          "text": [
            "True\n",
            "False\n"
          ]
        }
      ]
    },
    {
      "cell_type": "markdown",
      "source": [
        "### Datos Tipo caracter (CHAR)"
      ],
      "metadata": {
        "id": "jUnZFzGwPCJV"
      }
    },
    {
      "cell_type": "code",
      "source": [
        "\n",
        "caracter1 = 'a'\n",
        "caracter2 = 'z'\n",
        "caracter3 = '1'\n",
        "caracter4 = '*'\n",
        "caracter5 = ' '  # Espacio en blanco también es un carácter\n",
        "\n",
        "print(caracter1)\n",
        "print(caracter2)\n",
        "print(caracter3)\n",
        "print(caracter4)\n",
        "print(caracter5)\n",
        "type(input(\"ingrese un caracter\"))"
      ],
      "metadata": {
        "colab": {
          "base_uri": "https://localhost:8080/"
        },
        "id": "FwR23NBtO3gS",
        "outputId": "1e170c44-e043-4209-b1ee-9f9ae0bd84ad"
      },
      "execution_count": null,
      "outputs": [
        {
          "name": "stdout",
          "output_type": "stream",
          "text": [
            "a\n",
            "z\n",
            "1\n",
            "*\n",
            " \n",
            "ingrese un caracter5\n"
          ]
        },
        {
          "output_type": "execute_result",
          "data": {
            "text/plain": [
              "str"
            ]
          },
          "metadata": {},
          "execution_count": 14
        }
      ]
    },
    {
      "cell_type": "markdown",
      "source": [
        "### Datos tipo Entero"
      ],
      "metadata": {
        "id": "eOAhddqqPJfr"
      }
    },
    {
      "cell_type": "code",
      "source": [
        "# Datos tipo entero (INT)\n",
        "entero1 = 10\n",
        "entero2 = -5\n",
        "entero3 = 0\n",
        "\n",
        "print(entero1)\n",
        "print(entero2)\n",
        "print(entero3)\n",
        "type(int(input(\"ingrese un número entero\")))"
      ],
      "metadata": {
        "colab": {
          "base_uri": "https://localhost:8080/"
        },
        "id": "ALlHJtFGPJli",
        "outputId": "365627b5-c212-4718-a7e4-8650b018c0b2"
      },
      "execution_count": null,
      "outputs": [
        {
          "name": "stdout",
          "output_type": "stream",
          "text": [
            "10\n",
            "-5\n",
            "0\n",
            "ingrese un número entero5\n"
          ]
        },
        {
          "output_type": "execute_result",
          "data": {
            "text/plain": [
              "int"
            ]
          },
          "metadata": {},
          "execution_count": 15
        }
      ]
    },
    {
      "cell_type": "markdown",
      "source": [
        "### Datos Tipo Flotante"
      ],
      "metadata": {
        "id": "jaqB8Ye4Pd7L"
      }
    },
    {
      "cell_type": "code",
      "source": [
        "# Datos tipo flotante (FLOAT)\n",
        "flotante1 = 3.14159\n",
        "flotante2 = -2.5\n",
        "flotante3 = 0.0\n",
        "\n",
        "print(flotante1)\n",
        "print(flotante2)\n",
        "print(flotante3)\n",
        "\n",
        "type(float(input(\"ingrese un número float\")))"
      ],
      "metadata": {
        "colab": {
          "base_uri": "https://localhost:8080/"
        },
        "id": "fIjUyLMMPeAA",
        "outputId": "8e42038a-a91b-4ffa-bad7-f5aac5c318cb"
      },
      "execution_count": null,
      "outputs": [
        {
          "name": "stdout",
          "output_type": "stream",
          "text": [
            "3.14159\n",
            "-2.5\n",
            "0.0\n",
            "ingrese un número float3.0\n"
          ]
        },
        {
          "output_type": "execute_result",
          "data": {
            "text/plain": [
              "float"
            ]
          },
          "metadata": {},
          "execution_count": 16
        }
      ]
    },
    {
      "cell_type": "markdown",
      "source": [
        "### Datos Tipo String o Cadenas de Texto"
      ],
      "metadata": {
        "id": "Zo5kQzukQTaB"
      }
    },
    {
      "cell_type": "code",
      "source": [
        "# Datos tipo cadena de texto (STRING)\n",
        "cadena1 = \"Hola\" #Unión de varios caracteres\n",
        "cadena2 = 'Mundo'\n",
        "cadena3 = \"\"\"Este es un ejemplo de una cadena de textode varias líneas.\"\"\"\n",
        "cadena4 = \"123\"  # Una cadena que contiene números\n",
        "cadena5 = \"\" # Cadena vacía\n",
        "cadena6 = \"Hola Mundo\"\n",
        "cadena7 = \"Python\"\n",
        "\n",
        "print(cadena1)\n",
        "print(cadena2)\n",
        "print(cadena3)\n",
        "print(cadena4)\n",
        "print(cadena5)\n",
        "print(cadena6)\n",
        "print(cadena7)\n",
        "\n",
        "type(input(\"ingrese una cadena de texto\"))"
      ],
      "metadata": {
        "id": "ZlGHKFEhQTiO",
        "colab": {
          "base_uri": "https://localhost:8080/"
        },
        "outputId": "fbcdeac2-cbdc-4a98-f4c3-397da128425c"
      },
      "execution_count": null,
      "outputs": [
        {
          "name": "stdout",
          "output_type": "stream",
          "text": [
            "Hola\n",
            "Mundo\n",
            "Este es un ejemplo de una cadena de textode varias líneas.\n",
            "123\n",
            "\n",
            "Hola Mundo\n",
            "Python\n",
            "ingrese una cadena de textohola\n"
          ]
        },
        {
          "output_type": "execute_result",
          "data": {
            "text/plain": [
              "str"
            ]
          },
          "metadata": {},
          "execution_count": 17
        }
      ]
    },
    {
      "cell_type": "code",
      "source": [
        "print(cadena1 + \" \" + cadena2) #concatenación o unión de cadenas de texto\n",
        "print(len(cadena6)) #longitud de la cadena\n",
        "print(cadena6[0:4])  #slicing\n",
        "print(cadena6.upper()) #mayusculas\n",
        "print(cadena7.lower()) #minusculas\n",
        "print(cadena6.split(\" \")) #split\n",
        "print(cadena6.find(\"Mundo\")) #Encontrar la posición de una subcadena\n",
        "print(\"Mundo\" in cadena6) #verificar si una subcadena existe en la cadena\n",
        "\n",
        "#Ejemplo de interpolación\n",
        "nombre = \"Juan\"\n",
        "edad = 30\n",
        "print(f\"Mi nombre es {nombre} y tengo {edad} años\")\n",
        "print(f\"{nombre=}, {edad=}\")"
      ],
      "metadata": {
        "colab": {
          "base_uri": "https://localhost:8080/"
        },
        "id": "ak4KpbwrLc-J",
        "outputId": "75f93b62-d9b5-4173-c7a4-0114f22e9ff2"
      },
      "execution_count": null,
      "outputs": [
        {
          "output_type": "stream",
          "name": "stdout",
          "text": [
            "Hola Mundo\n",
            "10\n",
            "Hola\n",
            "HOLA MUNDO\n",
            "python\n",
            "['Hola', 'Mundo']\n",
            "5\n",
            "True\n",
            "Mi nombre es Juan y tengo 30 años\n",
            "nombre='Juan', edad=30\n"
          ]
        }
      ]
    },
    {
      "cell_type": "markdown",
      "source": [
        "### Listas"
      ],
      "metadata": {
        "id": "QTQULLLqP6RQ"
      }
    },
    {
      "cell_type": "code",
      "source": [
        "# Crear una lista vacía\n",
        "lista_vacia = []"
      ],
      "metadata": {
        "id": "aoR_9jOFP6Wo"
      },
      "execution_count": null,
      "outputs": []
    },
    {
      "cell_type": "code",
      "source": [
        "# Crear una lista de números\n",
        "lista_numeros = [1, 2, 3, 4, 5]"
      ],
      "metadata": {
        "id": "DkQBt6L5NmlF"
      },
      "execution_count": null,
      "outputs": []
    },
    {
      "cell_type": "code",
      "source": [
        "# Crear una lista de cadenas de texto\n",
        "lista_cadenas = [\"manzana\", \"banana\", \"cereza\"]"
      ],
      "metadata": {
        "id": "pxJ1gi64NrYK"
      },
      "execution_count": null,
      "outputs": []
    },
    {
      "cell_type": "code",
      "source": [
        "# Crear una lista con elementos de diferentes tipos de datos\n",
        "lista_mixta = [10, \"Hola\", 3.14, True]"
      ],
      "metadata": {
        "id": "mSpLfna2NtKc"
      },
      "execution_count": null,
      "outputs": []
    },
    {
      "cell_type": "code",
      "source": [
        "# Acceder a elementos de una lista (el primer elemento tiene índice 0)\n",
        "print(lista_numeros[0])  # Output: 1\n",
        "print(lista_cadenas[2])  # Output: cereza\n"
      ],
      "metadata": {
        "colab": {
          "base_uri": "https://localhost:8080/"
        },
        "id": "cxHJQ5tlNwiY",
        "outputId": "f0dffda4-815e-4862-82f7-120b777d429a"
      },
      "execution_count": null,
      "outputs": [
        {
          "output_type": "stream",
          "name": "stdout",
          "text": [
            "1\n",
            "cereza\n"
          ]
        }
      ]
    },
    {
      "cell_type": "code",
      "source": [
        "# Modificar elementos de una lista\n",
        "lista_numeros[0] = 10\n",
        "print(lista_numeros)  # Output: [10, 2, 3, 4, 5]\n"
      ],
      "metadata": {
        "colab": {
          "base_uri": "https://localhost:8080/"
        },
        "id": "vU0hH0fVN0DR",
        "outputId": "21340982-b9c2-4f53-8d7e-a4093e0cddda"
      },
      "execution_count": null,
      "outputs": [
        {
          "output_type": "stream",
          "name": "stdout",
          "text": [
            "[10, 2, 3, 4, 5]\n"
          ]
        }
      ]
    },
    {
      "cell_type": "code",
      "source": [
        "# Agregar elementos a una lista\n",
        "lista_numeros.append(6)\n",
        "print(lista_numeros)  # Output: [10, 2, 3, 4, 5, 6]\n"
      ],
      "metadata": {
        "colab": {
          "base_uri": "https://localhost:8080/"
        },
        "id": "EE64Id47N414",
        "outputId": "be08fc3a-4088-471c-a44f-82d0d93fce7c"
      },
      "execution_count": null,
      "outputs": [
        {
          "output_type": "stream",
          "name": "stdout",
          "text": [
            "[10, 2, 3, 4, 5, 6]\n"
          ]
        }
      ]
    },
    {
      "cell_type": "code",
      "source": [
        "# Insertar un elemento en una posición específica\n",
        "lista_numeros.insert(2, 20) # inserta 20 en la posición con índice 2\n",
        "print(lista_numeros)  # Output: [10, 2, 20, 3, 4, 5, 6]\n",
        "\n"
      ],
      "metadata": {
        "colab": {
          "base_uri": "https://localhost:8080/"
        },
        "id": "9zNr9tI-N82c",
        "outputId": "2abb8048-e3c5-4c31-b7bf-f124c70000c2"
      },
      "execution_count": null,
      "outputs": [
        {
          "output_type": "stream",
          "name": "stdout",
          "text": [
            "[1, 2, 20, 3, 4, 5]\n"
          ]
        }
      ]
    },
    {
      "cell_type": "code",
      "source": [
        "# Eliminar un elemento de una lista\n",
        "lista_numeros.remove(20)  # Elimina el primer elemento con valor 20\n",
        "print(lista_numeros) # Output: [10, 2, 3, 4, 5, 6]"
      ],
      "metadata": {
        "colab": {
          "base_uri": "https://localhost:8080/"
        },
        "id": "pgzfDQPJOTeC",
        "outputId": "b67f8aca-f198-4882-da9a-069316c3d11a"
      },
      "execution_count": null,
      "outputs": [
        {
          "output_type": "stream",
          "name": "stdout",
          "text": [
            "[1, 2, 3, 4, 5]\n"
          ]
        }
      ]
    },
    {
      "cell_type": "code",
      "source": [
        "# Eliminar un elemento por su índice\n",
        "del lista_numeros[0]  # Elimina el elemento en la posición 0\n",
        "print(lista_numeros) # Output: [2, 3, 4, 5, 6]"
      ],
      "metadata": {
        "colab": {
          "base_uri": "https://localhost:8080/"
        },
        "id": "wImbM6k4OU4b",
        "outputId": "55e2b25d-ab21-49f7-eae1-746f11c56da9"
      },
      "execution_count": null,
      "outputs": [
        {
          "output_type": "stream",
          "name": "stdout",
          "text": [
            "[2, 3, 4, 5]\n"
          ]
        }
      ]
    },
    {
      "cell_type": "code",
      "source": [
        "# Obtener la longitud de una lista\n",
        "longitud = len(lista_numeros)\n",
        "print(longitud)  # Output: 5"
      ],
      "metadata": {
        "colab": {
          "base_uri": "https://localhost:8080/"
        },
        "id": "kTD8J3m2OV4b",
        "outputId": "afdac87c-cd35-4c82-b930-d582e893fc5e"
      },
      "execution_count": null,
      "outputs": [
        {
          "output_type": "stream",
          "name": "stdout",
          "text": [
            "4\n"
          ]
        }
      ]
    },
    {
      "cell_type": "code",
      "source": [
        "# Otras operaciones con listas\n",
        "lista_numeros.sort()  # Ordenar la lista (en este caso, de menor a mayor)\n",
        "print(lista_numeros) # Output: [2, 3, 4, 5, 6]"
      ],
      "metadata": {
        "colab": {
          "base_uri": "https://localhost:8080/"
        },
        "id": "ytyqPfS9OW-L",
        "outputId": "f16c3882-92db-41e1-8345-5776ba0cf44f"
      },
      "execution_count": null,
      "outputs": [
        {
          "output_type": "stream",
          "name": "stdout",
          "text": [
            "[2, 3, 4, 5]\n"
          ]
        }
      ]
    },
    {
      "cell_type": "code",
      "source": [
        "lista_numeros.reverse() # invertir la lista\n",
        "print(lista_numeros) # Output: [6, 5, 4, 3, 2]"
      ],
      "metadata": {
        "colab": {
          "base_uri": "https://localhost:8080/"
        },
        "id": "hd_9rLR8OYEQ",
        "outputId": "09f03223-62a2-4039-b2a7-acdd844854ee"
      },
      "execution_count": null,
      "outputs": [
        {
          "output_type": "stream",
          "name": "stdout",
          "text": [
            "[5, 4, 3, 2]\n"
          ]
        }
      ]
    },
    {
      "cell_type": "code",
      "source": [
        "mi_tupla = (1, 2, 3, 4, 5)\n",
        "print(mi_tupla)  # Salida: (1, 2, 3, 4, 5)\n",
        "# Intentamos modificar un elemento de la tupla (esto generará un error)\n",
        "# mi_tupla[0] = 10  # TypeError: 'tuple' object does not support item assignment\n",
        "\n",
        "# Las tuplas no permiten agregar ni eliminar elementos.\n"
      ],
      "metadata": {
        "id": "NkYeQpP5PFWy"
      },
      "execution_count": null,
      "outputs": []
    },
    {
      "cell_type": "markdown",
      "source": [
        "##*OPERADORES*"
      ],
      "metadata": {
        "id": "HROWraf-PfEN"
      }
    },
    {
      "cell_type": "markdown",
      "source": [
        "### Operadores Aritméticos"
      ],
      "metadata": {
        "id": "kUOAYjWFQWel"
      }
    },
    {
      "cell_type": "code",
      "source": [
        "# Suma\n",
        "suma = 2 + 2\n",
        "# Resta\n",
        "resta = 5-1\n",
        "\n",
        "# Multiplicación\n",
        "multiplicacion = 2 * 2\n",
        "\n",
        "# División\n",
        "division = 10 / 5  # division = 2.0 (resultado siempre es un flotante)\n",
        "\n",
        "# División entera\n",
        "division_entera = 10 // 5 # division_entera = 2 (parte entera de la división)\n",
        "\n",
        "# Módulo (residuo de la división)\n",
        "modulo = 10 % 3  # modulo = 1\n",
        "\n",
        "# Exponente\n",
        "exponente = 2 ** 3  # exponente = 8 (2 elevado a 3)\n",
        "\n",
        "print(\"Suma:\", suma)\n",
        "print(\"Resta:\", resta)\n",
        "print(\"Multiplicación:\", multiplicacion)\n",
        "print(\"División:\", division)\n",
        "print(\"División entera:\", division_entera)\n",
        "print(\"Módulo:\", modulo)\n",
        "print(\"Exponente:\", exponente)"
      ],
      "metadata": {
        "colab": {
          "base_uri": "https://localhost:8080/"
        },
        "id": "FwvTcHPJPfJZ",
        "outputId": "8c289067-d43a-439b-8ffd-fab2eb0ab1c3"
      },
      "execution_count": null,
      "outputs": [
        {
          "output_type": "stream",
          "name": "stdout",
          "text": [
            "Suma: 4\n",
            "Resta: 4\n",
            "Multiplicación: 4\n",
            "División: 2.0\n",
            "División entera: 2\n",
            "Módulo: 1\n",
            "Exponente: 8\n"
          ]
        }
      ]
    },
    {
      "cell_type": "code",
      "source": [
        "resultado=((4*5)/2)**2-((8+3)*(2+4))%7\n",
        "print(resultado)"
      ],
      "metadata": {
        "colab": {
          "base_uri": "https://localhost:8080/"
        },
        "id": "LlSdSQw2Qpwo",
        "outputId": "a18344d8-1ca1-474d-ae52-728a25e7e834"
      },
      "execution_count": null,
      "outputs": [
        {
          "output_type": "stream",
          "name": "stdout",
          "text": [
            "97.0\n"
          ]
        }
      ]
    },
    {
      "cell_type": "markdown",
      "source": [
        "### Operadores Asignación\n",
        "\n",
        "\n"
      ],
      "metadata": {
        "id": "HMfueyK2RH0C"
      }
    },
    {
      "cell_type": "code",
      "source": [
        "# Operadores de asignación\n",
        "\n",
        "x = 1  # Asignación simple\n",
        "print(x)\n",
        "\n",
        "x=1\n",
        "x += 1  # Equivalente a x = x + 1\n",
        "print(x)\n",
        "\n",
        "x=4\n",
        "x -= 3  # Equivalente a x = x - 3\n",
        "print(x)\n",
        "\n",
        "x=2\n",
        "x *= 2  # Equivalente a x = x * 2\n",
        "print(x)\n",
        "\n",
        "x=2\n",
        "x /= 2  # Equivalente a x = x / 2\n",
        "print(x)\n",
        "\n",
        "x=5\n",
        "x %= 2  # Equivalente a x = x % 3\n",
        "print(x)\n",
        "\n",
        "x=10\n",
        "x //= 2 # Equivalente a x = x // 2\n",
        "print(x)\n",
        "\n",
        "x=5\n",
        "x **= 2 # Equivalente a x = x ** 2\n",
        "print(x)"
      ],
      "metadata": {
        "colab": {
          "base_uri": "https://localhost:8080/"
        },
        "id": "ThCXcxZyRH6L",
        "outputId": "30bbc7eb-a580-4a14-9613-773091fa9c1f"
      },
      "execution_count": null,
      "outputs": [
        {
          "output_type": "stream",
          "name": "stdout",
          "text": [
            "1\n",
            "2\n",
            "1\n",
            "4\n",
            "1.0\n",
            "1\n",
            "5\n",
            "25\n"
          ]
        }
      ]
    },
    {
      "cell_type": "markdown",
      "source": [
        "### Operadores Comparación"
      ],
      "metadata": {
        "id": "cfznXKPtSSGt"
      }
    },
    {
      "cell_type": "code",
      "source": [
        "# ### Operadores Comparación\n",
        "# Igualdad\n",
        "igualdad = 1 == 1  # igualdad = True\n",
        "print(\"Igualdad:\",igualdad)\n",
        "\n",
        "# Desigualdad\n",
        "desigualdad = 2 != 1  # desigualdad = True\n",
        "print(\"Desigualdad:\",desigualdad)\n",
        "\n",
        "# Mayor que\n",
        "mayor_que = 10 > 5  # mayor_que = True\n",
        "print(\"Mayor que:\",mayor_que)\n",
        "\n",
        "# Menor que\n",
        "menor_que = 5 < 10  # menor_que = True\n",
        "print(\"Menor que:\",menor_que)\n",
        "\n",
        "# Mayor o igual que\n",
        "mayor_o_igual = 10 >= 10  # mayor_o_igual = True\n",
        "print(\"Mayor o igual que:\",mayor_o_igual)\n",
        "\n",
        "# Menor o igual que\n",
        "menor_o_igual = 5 <= 10  # menor_o_igual = True\n",
        "print(\"Menor o igual que:\",menor_o_igual)"
      ],
      "metadata": {
        "colab": {
          "base_uri": "https://localhost:8080/"
        },
        "id": "VSu4AWsJSSRM",
        "outputId": "cb4af8bd-b3a4-40ff-e693-8119ee9e5e24"
      },
      "execution_count": null,
      "outputs": [
        {
          "output_type": "stream",
          "name": "stdout",
          "text": [
            "Igualdad: True\n",
            "Desigualdad: True\n",
            "Mayor que: True\n",
            "Menor que: True\n",
            "Mayor o igual que: True\n",
            "Menor o igual que: True\n"
          ]
        }
      ]
    },
    {
      "cell_type": "markdown",
      "source": [
        "### Operadores Lógicos"
      ],
      "metadata": {
        "id": "XFfjpfb0TYWH"
      }
    },
    {
      "cell_type": "code",
      "source": [
        "# and (Y lógico)\n",
        "# Devuelve True si ambos operandos son True, de lo contrario devuelve False.\n",
        "\n",
        "resultado_and = True and True  # resultado_and = True\n",
        "print(\"True and True:\", resultado_and)\n",
        "\n",
        "resultado_and = True and False  # resultado_and = False\n",
        "print(\"True and False:\", resultado_and)\n",
        "\n",
        "resultado_and = False and True  # resultado_and = False\n",
        "print(\"False and True:\", resultado_and)\n",
        "\n",
        "resultado_and = False and False  # resultado_and = False\n",
        "print(\"False and False:\", resultado_and)\n",
        "\n",
        "# or (O lógico)\n",
        "# Devuelve True si al menos uno de los operandos es True, de lo contrario devuelve False.\n",
        "\n",
        "resultado_or = True or True  # resultado_or = True\n",
        "print(\"True or True:\", resultado_or)\n",
        "\n",
        "resultado_or = True or False  # resultado_or = True\n",
        "print(\"True or False:\", resultado_or)\n",
        "\n",
        "resultado_or = False or True  # resultado_or = True\n",
        "print(\"False or True:\", resultado_or)\n",
        "\n",
        "resultado_or = False or False  # resultado_or = False\n",
        "print(\"False or False:\", resultado_or)\n",
        "\n",
        "# not (Negación lógica)\n",
        "# Invierte el valor del operando. Si el operando es True, devuelve False, y viceversa.\n",
        "\n",
        "resultado_not = not True  # resultado_not = False\n",
        "print(\"not True:\", resultado_not)\n",
        "\n",
        "resultado_not = not False  # resultado_not = True\n",
        "print(\"not False:\", resultado_not)"
      ],
      "metadata": {
        "colab": {
          "base_uri": "https://localhost:8080/"
        },
        "id": "gLZ5KafuTYbN",
        "outputId": "4f292a97-d1d3-45c6-f669-7b3367058002"
      },
      "execution_count": null,
      "outputs": [
        {
          "output_type": "stream",
          "name": "stdout",
          "text": [
            "True and True: True\n",
            "True and False: False\n",
            "False and True: False\n",
            "False and False: False\n",
            "True or True: True\n",
            "True or False: True\n",
            "False or True: True\n",
            "False or False: False\n",
            "not True: False\n",
            "not False: True\n"
          ]
        }
      ]
    },
    {
      "cell_type": "markdown",
      "source": [
        "##*CONDICIONALES*"
      ],
      "metadata": {
        "id": "dFiDT0YlVZlf"
      }
    },
    {
      "cell_type": "markdown",
      "source": [
        "Los condicionales nos permiten que el programa tome decisiones según el contexto de ejecución. Es decir, puede comportarse de una manera u otra según el contexto."
      ],
      "metadata": {
        "id": "sZwCae6QVfi1"
      }
    },
    {
      "cell_type": "markdown",
      "source": [
        "### IF"
      ],
      "metadata": {
        "id": "FlNWPmRKZgfZ"
      }
    },
    {
      "cell_type": "markdown",
      "source": [
        "Ejemplo\n",
        "Diseñe un algoritmo que determine e  imprima, si el número asignado a una variable es positivo"
      ],
      "metadata": {
        "id": "8O69TiQXWDwq"
      }
    },
    {
      "cell_type": "code",
      "source": [
        "# Ejemplo básico de condicional if\n",
        "numero = int(input(\"Introduce tu número: \"))\n",
        "\n",
        "if numero > 0: #if +  condición + :\n",
        "    print(\"El número es positivo.\") #Sentencia\n"
      ],
      "metadata": {
        "colab": {
          "base_uri": "https://localhost:8080/"
        },
        "id": "v3yHLxPqVexh",
        "outputId": "1059d504-6afd-43f1-eb18-2bfb8d074fe6"
      },
      "execution_count": null,
      "outputs": [
        {
          "name": "stdout",
          "output_type": "stream",
          "text": [
            "Introduce tu número: -3\n"
          ]
        }
      ]
    },
    {
      "cell_type": "markdown",
      "source": [
        "### IF ELSE"
      ],
      "metadata": {
        "id": "wXwVL4dVZXS8"
      }
    },
    {
      "cell_type": "markdown",
      "source": [
        "Ejemplo Diseñe un algoritmo que determine e  imprima, si el número asignado a una variable es positivo o es negativo"
      ],
      "metadata": {
        "id": "l5PI-TEQZlVl"
      }
    },
    {
      "cell_type": "code",
      "source": [
        "# Ejemplo básico de condicional if\n",
        "numero = int(input(\"Introduce tu número: \"))\n",
        "\n",
        "if numero > 0: #if +  condición + :\n",
        "    print(\"El número es positivo.\") #Sentencia\n",
        "\n",
        "else:          #else + :\n",
        "    print(\"El número es negativo.\")\n"
      ],
      "metadata": {
        "colab": {
          "base_uri": "https://localhost:8080/"
        },
        "id": "zekNZDv-ZXcf",
        "outputId": "a1f92554-e867-468d-fd9d-055d7c229596"
      },
      "execution_count": null,
      "outputs": [
        {
          "output_type": "stream",
          "name": "stdout",
          "text": [
            "Introduce tu número: 0\n",
            "El número es negativo.\n"
          ]
        }
      ]
    },
    {
      "cell_type": "markdown",
      "source": [
        "### ELIF (IF CASCADA)"
      ],
      "metadata": {
        "id": "43Qq6hDxaz6r"
      }
    },
    {
      "cell_type": "markdown",
      "source": [
        "Ejemplo Diseñe un algoritmo que determine e  imprima, si el número asignado a una variable es positivo, es negativo o cero."
      ],
      "metadata": {
        "id": "HHNLHxJaa7ai"
      }
    },
    {
      "cell_type": "code",
      "source": [
        "numero = int(input(\"Introduce tu número: \"))\n",
        "\n",
        "if numero > 0: #if +  condición + :\n",
        "    print(\"El número es positivo.\") #Sentencia\n",
        "\n",
        "elif numero == 0: #elif + condición + :\n",
        "    print(\"El número no es ni negativo ni positivo.\")\n",
        "\n",
        "else:          #else + :\n",
        "    print(\"El número es negativo.\")"
      ],
      "metadata": {
        "colab": {
          "base_uri": "https://localhost:8080/"
        },
        "id": "dYCsmCW6a7Ig",
        "outputId": "0e482e85-12bf-46ad-9adf-5f2e2d28c9c5"
      },
      "execution_count": null,
      "outputs": [
        {
          "output_type": "stream",
          "name": "stdout",
          "text": [
            "Introduce tu número: 1\n",
            "El número es positivo.\n"
          ]
        }
      ]
    },
    {
      "cell_type": "markdown",
      "source": [
        "### IF ANIDADOS"
      ],
      "metadata": {
        "id": "z5WZq60GsbsS"
      }
    },
    {
      "cell_type": "code",
      "source": [
        "numero = input(\"Introduce tu número: \")\n",
        "\n",
        "print(numero.isnumeric())\n",
        "\n",
        "if numero.isnumeric():\n",
        "  numero = int(numero)\n",
        "  if numero > 0: #if +  condición + :\n",
        "      print(\"El número es positivo.\") #Sentencia\n",
        "\n",
        "  elif numero == 0: #elif + condición + :\n",
        "      print(\"El número no es ni negativo ni positivo.\")\n",
        "\n",
        "  else:          #else + :\n",
        "      print(\"El número es negativo.\")"
      ],
      "metadata": {
        "colab": {
          "base_uri": "https://localhost:8080/"
        },
        "id": "Mb6CLnJGseyO",
        "outputId": "35b30272-c0f0-460e-a42d-207f2c2aec53"
      },
      "execution_count": 6,
      "outputs": [
        {
          "output_type": "stream",
          "name": "stdout",
          "text": [
            "Introduce tu número: a\n",
            "False\n"
          ]
        }
      ]
    },
    {
      "cell_type": "markdown",
      "source": [
        "##*CICLOS*"
      ],
      "metadata": {
        "id": "Jhy9IMxKwuaV"
      }
    },
    {
      "cell_type": "markdown",
      "source": [
        "### FOR\n",
        "El ciclo FOR es una estructura de control en la programación que se utilizapara iterar sobre una seuencia de elementos y ejecutar un bloque de código para cada elemento en la secuencia. Es una de las formas más comunes de realizar iteraciones en la programación."
      ],
      "metadata": {
        "id": "5RgIP5tDwuxs"
      }
    },
    {
      "cell_type": "code",
      "source": [
        "suma=0+1+2+3+4\n",
        "print(suma)\n",
        "\n",
        "suma=0\n",
        "for i in range(5):\n",
        "    print(i)\n",
        "    suma+=i\n",
        "print (f' \"suma\" = {suma}')"
      ],
      "metadata": {
        "colab": {
          "base_uri": "https://localhost:8080/",
          "height": 139
        },
        "id": "xMGNBmENwu5i",
        "outputId": "437a9c40-99ce-45b7-a84a-f0d14db7003f"
      },
      "execution_count": 16,
      "outputs": [
        {
          "output_type": "stream",
          "name": "stdout",
          "text": [
            "10\n",
            "0\n",
            "1\n",
            "2\n",
            "3\n",
            "4\n"
          ]
        },
        {
          "output_type": "execute_result",
          "data": {
            "text/plain": [
              "' \"suma\" = 10'"
            ],
            "application/vnd.google.colaboratory.intrinsic+json": {
              "type": "string"
            }
          },
          "metadata": {},
          "execution_count": 16
        }
      ]
    },
    {
      "cell_type": "code",
      "source": [
        "n = 5\n",
        "for i in range(n, 0, -1): # n=start, 0=stop, -1=paso\n",
        "  print(i)"
      ],
      "metadata": {
        "colab": {
          "base_uri": "https://localhost:8080/"
        },
        "id": "oc_X4Mmizwfm",
        "outputId": "e06a5b2e-9c4f-45a4-c830-0083e9fb0f84"
      },
      "execution_count": 19,
      "outputs": [
        {
          "output_type": "stream",
          "name": "stdout",
          "text": [
            "5\n",
            "4\n",
            "3\n",
            "2\n",
            "1\n"
          ]
        }
      ]
    },
    {
      "cell_type": "code",
      "source": [
        "# Ejemplo de ciclo for con listas\n",
        "frutas = [\"manzana\", \"banana\", \"cereza\"]\n",
        "for fruta in frutas:\n",
        "    print(fruta)"
      ],
      "metadata": {
        "colab": {
          "base_uri": "https://localhost:8080/"
        },
        "id": "hHc8Nwrq0F8v",
        "outputId": "79b8f33e-b42e-4be4-be7b-c4d094a6633c"
      },
      "execution_count": 20,
      "outputs": [
        {
          "output_type": "stream",
          "name": "stdout",
          "text": [
            "manzana\n",
            "banana\n",
            "cereza\n"
          ]
        }
      ]
    },
    {
      "cell_type": "code",
      "source": [
        "# Ejemplo de ciclo for con cadenas de texto\n",
        "mensaje = \"Hola Mundo\"\n",
        "for letra in mensaje:\n",
        "    print(letra)"
      ],
      "metadata": {
        "colab": {
          "base_uri": "https://localhost:8080/"
        },
        "id": "JNZKUqOu0N6S",
        "outputId": "989b0a8f-504d-4af6-f1db-6b516de603ed"
      },
      "execution_count": 21,
      "outputs": [
        {
          "output_type": "stream",
          "name": "stdout",
          "text": [
            "H\n",
            "o\n",
            "l\n",
            "a\n",
            " \n",
            "M\n",
            "u\n",
            "n\n",
            "d\n",
            "o\n"
          ]
        }
      ]
    },
    {
      "cell_type": "markdown",
      "source": [
        "### FOR ANIDADOS"
      ],
      "metadata": {
        "id": "jjX2M62R0rvD"
      }
    },
    {
      "cell_type": "code",
      "source": [
        "for i in range(1, 3):\n",
        "    for j in range(1, 11):\n",
        "        print(f\"{i} x {j} = {i * j}\"+\"  |\")\n",
        "    print(\"-\" * 10)"
      ],
      "metadata": {
        "colab": {
          "base_uri": "https://localhost:8080/"
        },
        "id": "aH2b3JLs0x1y",
        "outputId": "a7844017-b552-476a-9a77-8a960e6db32b"
      },
      "execution_count": 28,
      "outputs": [
        {
          "output_type": "stream",
          "name": "stdout",
          "text": [
            "1 x 1 = 1  |\n",
            "1 x 2 = 2  |\n",
            "1 x 3 = 3  |\n",
            "1 x 4 = 4  |\n",
            "1 x 5 = 5  |\n",
            "1 x 6 = 6  |\n",
            "1 x 7 = 7  |\n",
            "1 x 8 = 8  |\n",
            "1 x 9 = 9  |\n",
            "1 x 10 = 10  |\n",
            "----------\n",
            "2 x 1 = 2  |\n",
            "2 x 2 = 4  |\n",
            "2 x 3 = 6  |\n",
            "2 x 4 = 8  |\n",
            "2 x 5 = 10  |\n",
            "2 x 6 = 12  |\n",
            "2 x 7 = 14  |\n",
            "2 x 8 = 16  |\n",
            "2 x 9 = 18  |\n",
            "2 x 10 = 20  |\n",
            "----------\n"
          ]
        }
      ]
    }
  ]
}