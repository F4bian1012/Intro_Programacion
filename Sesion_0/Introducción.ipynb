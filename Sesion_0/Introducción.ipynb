{
  "nbformat": 4,
  "nbformat_minor": 0,
  "metadata": {
    "colab": {
      "provenance": [],
      "collapsed_sections": [
        "azOBC9Q1jRdt",
        "9OfCF-WR1CPO",
        "e38A-HfMm2QG",
        "1ngezaFl7sx9"
      ]
    },
    "kernelspec": {
      "name": "python3",
      "display_name": "Python 3"
    },
    "language_info": {
      "name": "python"
    }
  },
  "cells": [
    {
      "cell_type": "markdown",
      "source": [
        "#Programación\n"
      ],
      "metadata": {
        "id": "azOBC9Q1jRdt"
      }
    },
    {
      "cell_type": "markdown",
      "source": [
        "Programar es el proceso de escribir código para crear software o aplicaciones que se ejecutan en una computadora o dispospositivo electrónico con unidad de procesamiento. Es el acto de traducir una solución o algoritmo en un lenguaje comprensible para una máquina.\n",
        "\n"
      ],
      "metadata": {
        "id": "vmw-J15xzidN"
      }
    },
    {
      "cell_type": "code",
      "execution_count": 1,
      "metadata": {
        "colab": {
          "base_uri": "https://localhost:8080/"
        },
        "id": "hABfZayhjQ80",
        "outputId": "3805ea80-46ea-4d37-bf3b-88fd27e3fd48"
      },
      "outputs": [
        {
          "output_type": "stream",
          "name": "stdout",
          "text": [
            "Hola Mundo\n"
          ]
        }
      ],
      "source": [
        "print(\"Hola Mundo\")"
      ]
    }
  ]
}