{
  "nbformat": 4,
  "nbformat_minor": 0,
  "metadata": {
    "colab": {
      "provenance": [],
      "collapsed_sections": [
        "azOBC9Q1jRdt",
        "9OfCF-WR1CPO",
        "e38A-HfMm2QG",
        "1ngezaFl7sx9"
      ]
    },
    "kernelspec": {
      "name": "python3",
      "display_name": "Python 3"
    },
    "language_info": {
      "name": "python"
    }
  },
  "cells": [
    {
      "cell_type": "markdown",
      "source": [
        "#Programación\n"
      ],
      "metadata": {
        "id": "azOBC9Q1jRdt"
      }
    },
    {
      "cell_type": "markdown",
      "source": [
        "Programar es el proceso de escribir código para crear software o aplicaciones que se ejecutan en una computadora o dispospositivo electrónico con unidad de procesamiento. Es el acto de traducir una solución o algoritmo en un lenguaje comprensible para una máquina.\n",
        "\n"
      ],
      "metadata": {
        "id": "vmw-J15xzidN"
      }
    },
    {
      "cell_type": "code",
      "execution_count": null,
      "metadata": {
        "colab": {
          "base_uri": "https://localhost:8080/"
        },
        "id": "hABfZayhjQ80",
        "outputId": "079ba1b1-9239-438e-d5c1-8474ecb1a524"
      },
      "outputs": [
        {
          "output_type": "stream",
          "name": "stdout",
          "text": [
            "Hola Mundo\n"
          ]
        }
      ],
      "source": [
        "print(\"Hola Mundo\")"
      ]
    },
    {
      "cell_type": "code",
      "source": [
        "nombre = input(\"Introduce tu nombre: \")\n",
        "print(nombre)"
      ],
      "metadata": {
        "colab": {
          "base_uri": "https://localhost:8080/"
        },
        "id": "6BOomGJyTDp_",
        "outputId": "3298389d-d645-45b7-d1cc-89c20aa25d61"
      },
      "execution_count": null,
      "outputs": [
        {
          "output_type": "stream",
          "name": "stdout",
          "text": [
            "Introduce tu nombre: jf\n",
            "jf\n"
          ]
        }
      ]
    },
    {
      "cell_type": "markdown",
      "source": [
        "##*DATOS*"
      ],
      "metadata": {
        "id": "6_cHWSlvNyrg"
      }
    },
    {
      "cell_type": "markdown",
      "source": [
        "###Datos Booleanos"
      ],
      "metadata": {
        "id": "JAVzgMWcN5XA"
      }
    },
    {
      "cell_type": "code",
      "source": [
        "Dato_Verdadero = True\n",
        "Dato_Falso = False\n",
        "\n",
        "print(Dato_Verdadero)\n",
        "print(Dato_Falso)\n"
      ],
      "metadata": {
        "colab": {
          "base_uri": "https://localhost:8080/"
        },
        "id": "JdiE7poEOchR",
        "outputId": "cdd3ec00-7434-44e6-8085-688f1077198d"
      },
      "execution_count": null,
      "outputs": [
        {
          "output_type": "stream",
          "name": "stdout",
          "text": [
            "True\n",
            "False\n"
          ]
        }
      ]
    },
    {
      "cell_type": "markdown",
      "source": [
        "### Datos Tipo caracter (CHAR)"
      ],
      "metadata": {
        "id": "jUnZFzGwPCJV"
      }
    },
    {
      "cell_type": "code",
      "source": [
        "\n",
        "caracter1 = 'a'\n",
        "caracter2 = 'z'\n",
        "caracter3 = '1'\n",
        "caracter4 = '*'\n",
        "caracter5 = ' '  # Espacio en blanco también es un carácter\n",
        "\n",
        "print(caracter1)\n",
        "print(caracter2)\n",
        "print(caracter3)\n",
        "print(caracter4)\n",
        "print(caracter5)\n",
        "type(input(\"ingrese un caracter\"))"
      ],
      "metadata": {
        "colab": {
          "base_uri": "https://localhost:8080/"
        },
        "id": "FwR23NBtO3gS",
        "outputId": "1e170c44-e043-4209-b1ee-9f9ae0bd84ad"
      },
      "execution_count": 14,
      "outputs": [
        {
          "name": "stdout",
          "output_type": "stream",
          "text": [
            "a\n",
            "z\n",
            "1\n",
            "*\n",
            " \n",
            "ingrese un caracter5\n"
          ]
        },
        {
          "output_type": "execute_result",
          "data": {
            "text/plain": [
              "str"
            ]
          },
          "metadata": {},
          "execution_count": 14
        }
      ]
    },
    {
      "cell_type": "markdown",
      "source": [
        "### Datos tipo Entero"
      ],
      "metadata": {
        "id": "eOAhddqqPJfr"
      }
    },
    {
      "cell_type": "code",
      "source": [
        "# Datos tipo entero (INT)\n",
        "entero1 = 10\n",
        "entero2 = -5\n",
        "entero3 = 0\n",
        "\n",
        "print(entero1)\n",
        "print(entero2)\n",
        "print(entero3)\n",
        "type(int(input(\"ingrese un número entero\")))"
      ],
      "metadata": {
        "colab": {
          "base_uri": "https://localhost:8080/"
        },
        "id": "ALlHJtFGPJli",
        "outputId": "365627b5-c212-4718-a7e4-8650b018c0b2"
      },
      "execution_count": 15,
      "outputs": [
        {
          "name": "stdout",
          "output_type": "stream",
          "text": [
            "10\n",
            "-5\n",
            "0\n",
            "ingrese un número entero5\n"
          ]
        },
        {
          "output_type": "execute_result",
          "data": {
            "text/plain": [
              "int"
            ]
          },
          "metadata": {},
          "execution_count": 15
        }
      ]
    },
    {
      "cell_type": "markdown",
      "source": [
        "### Datos Tipo Flotante"
      ],
      "metadata": {
        "id": "jaqB8Ye4Pd7L"
      }
    },
    {
      "cell_type": "code",
      "source": [
        "# Datos tipo flotante (FLOAT)\n",
        "flotante1 = 3.14159\n",
        "flotante2 = -2.5\n",
        "flotante3 = 0.0\n",
        "\n",
        "print(flotante1)\n",
        "print(flotante2)\n",
        "print(flotante3)\n",
        "\n",
        "type(float(input(\"ingrese un número float\")))"
      ],
      "metadata": {
        "colab": {
          "base_uri": "https://localhost:8080/"
        },
        "id": "fIjUyLMMPeAA",
        "outputId": "8e42038a-a91b-4ffa-bad7-f5aac5c318cb"
      },
      "execution_count": 16,
      "outputs": [
        {
          "name": "stdout",
          "output_type": "stream",
          "text": [
            "3.14159\n",
            "-2.5\n",
            "0.0\n",
            "ingrese un número float3.0\n"
          ]
        },
        {
          "output_type": "execute_result",
          "data": {
            "text/plain": [
              "float"
            ]
          },
          "metadata": {},
          "execution_count": 16
        }
      ]
    },
    {
      "cell_type": "markdown",
      "source": [
        "### Datos Tipo String o Cadenas de Texto"
      ],
      "metadata": {
        "id": "Zo5kQzukQTaB"
      }
    },
    {
      "cell_type": "code",
      "source": [
        "# Datos tipo cadena de texto (STRING)\n",
        "cadena1 = \"Hola\" #Unión de varios caracteres\n",
        "cadena2 = 'Mundo'\n",
        "cadena3 = \"\"\"Este es un ejemplo de una cadena de textode varias líneas.\"\"\"\n",
        "cadena4 = \"123\"  # Una cadena que contiene números\n",
        "cadena5 = \"\" # Cadena vacía\n",
        "cadena6 = \"Hola Mundo\"\n",
        "cadena7 = \"Python\"\n",
        "\n",
        "print(cadena1)\n",
        "print(cadena2)\n",
        "print(cadena3)\n",
        "print(cadena4)\n",
        "print(cadena5)\n",
        "print(cadena6)\n",
        "print(cadena7)\n",
        "\n",
        "type(input(\"ingrese una cadena de texto\"))"
      ],
      "metadata": {
        "id": "ZlGHKFEhQTiO",
        "colab": {
          "base_uri": "https://localhost:8080/"
        },
        "outputId": "fbcdeac2-cbdc-4a98-f4c3-397da128425c"
      },
      "execution_count": 17,
      "outputs": [
        {
          "name": "stdout",
          "output_type": "stream",
          "text": [
            "Hola\n",
            "Mundo\n",
            "Este es un ejemplo de una cadena de textode varias líneas.\n",
            "123\n",
            "\n",
            "Hola Mundo\n",
            "Python\n",
            "ingrese una cadena de textohola\n"
          ]
        },
        {
          "output_type": "execute_result",
          "data": {
            "text/plain": [
              "str"
            ]
          },
          "metadata": {},
          "execution_count": 17
        }
      ]
    },
    {
      "cell_type": "code",
      "source": [
        "print(cadena1 + \" \" + cadena2) #concatenación o unión de cadenas de texto\n",
        "print(len(cadena6)) #longitud de la cadena\n",
        "print(cadena6[0:4])  #slicing\n",
        "print(cadena6.upper()) #mayusculas\n",
        "print(cadena7.lower()) #minusculas\n",
        "print(cadena6.split(\" \")) #split\n",
        "print(cadena6.find(\"Mundo\")) #Encontrar la posición de una subcadena\n",
        "print(\"Mundo\" in cadena6) #verificar si una subcadena existe en la cadena\n",
        "\n",
        "#Ejemplo de interpolación\n",
        "nombre = \"Juan\"\n",
        "edad = 30\n",
        "print(f\"Mi nombre es {nombre} y tengo {edad} años\")\n",
        "print(f\"{nombre=}, {edad=}\")"
      ],
      "metadata": {
        "colab": {
          "base_uri": "https://localhost:8080/"
        },
        "id": "ak4KpbwrLc-J",
        "outputId": "75f93b62-d9b5-4173-c7a4-0114f22e9ff2"
      },
      "execution_count": 19,
      "outputs": [
        {
          "output_type": "stream",
          "name": "stdout",
          "text": [
            "Hola Mundo\n",
            "10\n",
            "Hola\n",
            "HOLA MUNDO\n",
            "python\n",
            "['Hola', 'Mundo']\n",
            "5\n",
            "True\n",
            "Mi nombre es Juan y tengo 30 años\n",
            "nombre='Juan', edad=30\n"
          ]
        }
      ]
    },
    {
      "cell_type": "markdown",
      "source": [
        "### Listas"
      ],
      "metadata": {
        "id": "QTQULLLqP6RQ"
      }
    },
    {
      "cell_type": "code",
      "source": [
        "# Crear una lista vacía\n",
        "lista_vacia = []"
      ],
      "metadata": {
        "id": "aoR_9jOFP6Wo"
      },
      "execution_count": 20,
      "outputs": []
    },
    {
      "cell_type": "code",
      "source": [
        "# Crear una lista de números\n",
        "lista_numeros = [1, 2, 3, 4, 5]"
      ],
      "metadata": {
        "id": "DkQBt6L5NmlF"
      },
      "execution_count": 29,
      "outputs": []
    },
    {
      "cell_type": "code",
      "source": [
        "# Crear una lista de cadenas de texto\n",
        "lista_cadenas = [\"manzana\", \"banana\", \"cereza\"]"
      ],
      "metadata": {
        "id": "pxJ1gi64NrYK"
      },
      "execution_count": 22,
      "outputs": []
    },
    {
      "cell_type": "code",
      "source": [
        "# Crear una lista con elementos de diferentes tipos de datos\n",
        "lista_mixta = [10, \"Hola\", 3.14, True]"
      ],
      "metadata": {
        "id": "mSpLfna2NtKc"
      },
      "execution_count": 23,
      "outputs": []
    },
    {
      "cell_type": "code",
      "source": [
        "# Acceder a elementos de una lista (el primer elemento tiene índice 0)\n",
        "print(lista_numeros[0])  # Output: 1\n",
        "print(lista_cadenas[2])  # Output: cereza\n"
      ],
      "metadata": {
        "colab": {
          "base_uri": "https://localhost:8080/"
        },
        "id": "cxHJQ5tlNwiY",
        "outputId": "f0dffda4-815e-4862-82f7-120b777d429a"
      },
      "execution_count": 24,
      "outputs": [
        {
          "output_type": "stream",
          "name": "stdout",
          "text": [
            "1\n",
            "cereza\n"
          ]
        }
      ]
    },
    {
      "cell_type": "code",
      "source": [
        "# Modificar elementos de una lista\n",
        "lista_numeros[0] = 10\n",
        "print(lista_numeros)  # Output: [10, 2, 3, 4, 5]\n"
      ],
      "metadata": {
        "colab": {
          "base_uri": "https://localhost:8080/"
        },
        "id": "vU0hH0fVN0DR",
        "outputId": "21340982-b9c2-4f53-8d7e-a4093e0cddda"
      },
      "execution_count": 25,
      "outputs": [
        {
          "output_type": "stream",
          "name": "stdout",
          "text": [
            "[10, 2, 3, 4, 5]\n"
          ]
        }
      ]
    },
    {
      "cell_type": "code",
      "source": [
        "# Agregar elementos a una lista\n",
        "lista_numeros.append(6)\n",
        "print(lista_numeros)  # Output: [10, 2, 3, 4, 5, 6]\n"
      ],
      "metadata": {
        "colab": {
          "base_uri": "https://localhost:8080/"
        },
        "id": "EE64Id47N414",
        "outputId": "be08fc3a-4088-471c-a44f-82d0d93fce7c"
      },
      "execution_count": 26,
      "outputs": [
        {
          "output_type": "stream",
          "name": "stdout",
          "text": [
            "[10, 2, 3, 4, 5, 6]\n"
          ]
        }
      ]
    },
    {
      "cell_type": "code",
      "source": [
        "# Insertar un elemento en una posición específica\n",
        "lista_numeros.insert(2, 20) # inserta 20 en la posición con índice 2\n",
        "print(lista_numeros)  # Output: [10, 2, 20, 3, 4, 5, 6]\n",
        "\n"
      ],
      "metadata": {
        "colab": {
          "base_uri": "https://localhost:8080/"
        },
        "id": "9zNr9tI-N82c",
        "outputId": "2abb8048-e3c5-4c31-b7bf-f124c70000c2"
      },
      "execution_count": 31,
      "outputs": [
        {
          "output_type": "stream",
          "name": "stdout",
          "text": [
            "[1, 2, 20, 3, 4, 5]\n"
          ]
        }
      ]
    },
    {
      "cell_type": "code",
      "source": [
        "# Eliminar un elemento de una lista\n",
        "lista_numeros.remove(20)  # Elimina el primer elemento con valor 20\n",
        "print(lista_numeros) # Output: [10, 2, 3, 4, 5, 6]"
      ],
      "metadata": {
        "colab": {
          "base_uri": "https://localhost:8080/"
        },
        "id": "pgzfDQPJOTeC",
        "outputId": "b67f8aca-f198-4882-da9a-069316c3d11a"
      },
      "execution_count": 32,
      "outputs": [
        {
          "output_type": "stream",
          "name": "stdout",
          "text": [
            "[1, 2, 3, 4, 5]\n"
          ]
        }
      ]
    },
    {
      "cell_type": "code",
      "source": [
        "# Eliminar un elemento por su índice\n",
        "del lista_numeros[0]  # Elimina el elemento en la posición 0\n",
        "print(lista_numeros) # Output: [2, 3, 4, 5, 6]"
      ],
      "metadata": {
        "colab": {
          "base_uri": "https://localhost:8080/"
        },
        "id": "wImbM6k4OU4b",
        "outputId": "55e2b25d-ab21-49f7-eae1-746f11c56da9"
      },
      "execution_count": 33,
      "outputs": [
        {
          "output_type": "stream",
          "name": "stdout",
          "text": [
            "[2, 3, 4, 5]\n"
          ]
        }
      ]
    },
    {
      "cell_type": "code",
      "source": [
        "# Obtener la longitud de una lista\n",
        "longitud = len(lista_numeros)\n",
        "print(longitud)  # Output: 5"
      ],
      "metadata": {
        "colab": {
          "base_uri": "https://localhost:8080/"
        },
        "id": "kTD8J3m2OV4b",
        "outputId": "afdac87c-cd35-4c82-b930-d582e893fc5e"
      },
      "execution_count": 34,
      "outputs": [
        {
          "output_type": "stream",
          "name": "stdout",
          "text": [
            "4\n"
          ]
        }
      ]
    },
    {
      "cell_type": "code",
      "source": [
        "# Otras operaciones con listas\n",
        "lista_numeros.sort()  # Ordenar la lista (en este caso, de menor a mayor)\n",
        "print(lista_numeros) # Output: [2, 3, 4, 5, 6]"
      ],
      "metadata": {
        "colab": {
          "base_uri": "https://localhost:8080/"
        },
        "id": "ytyqPfS9OW-L",
        "outputId": "f16c3882-92db-41e1-8345-5776ba0cf44f"
      },
      "execution_count": 35,
      "outputs": [
        {
          "output_type": "stream",
          "name": "stdout",
          "text": [
            "[2, 3, 4, 5]\n"
          ]
        }
      ]
    },
    {
      "cell_type": "code",
      "source": [
        "lista_numeros.reverse() # invertir la lista\n",
        "print(lista_numeros) # Output: [6, 5, 4, 3, 2]"
      ],
      "metadata": {
        "colab": {
          "base_uri": "https://localhost:8080/"
        },
        "id": "hd_9rLR8OYEQ",
        "outputId": "09f03223-62a2-4039-b2a7-acdd844854ee"
      },
      "execution_count": 36,
      "outputs": [
        {
          "output_type": "stream",
          "name": "stdout",
          "text": [
            "[5, 4, 3, 2]\n"
          ]
        }
      ]
    }
  ]
}